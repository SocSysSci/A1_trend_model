{
  "cells": [
    {
      "cell_type": "markdown",
      "metadata": {
        "colab_type": "text",
        "id": "view-in-github"
      },
      "source": [
        "<a href=\"https://colab.research.google.com/github/SocSysSci2022/A1_trend_model/blob/main/A1_trend_model.ipynb\" target=\"_parent\"><img src=\"https://colab.research.google.com/assets/colab-badge.svg\" alt=\"Open In Colab\"/></a>"
      ]
    },
    {
      "cell_type": "code",
      "execution_count": null,
      "metadata": {
        "id": "RM8yHkPCRyDd"
      },
      "outputs": [],
      "source": [
        "import numpy as np\n",
        "import matplotlib.pyplot as plt"
      ]
    },
    {
      "cell_type": "code",
      "execution_count": null,
      "metadata": {
        "id": "MCcVEBJASATo"
      },
      "outputs": [],
      "source": [
        "def calc_nd(x, pop, mu, sigma):\n",
        "  y = pop / (np.sqrt(2 * np.pi * sigma ** 2)) * np.exp((-(x - mu)**2) / (2 * sigma ** 2))\n",
        "  return y"
      ]
    },
    {
      "cell_type": "markdown",
      "metadata": {
        "id": "TcdPQGmtTK_S"
      },
      "source": [
        "1. 正規度数分布の計算"
      ]
    },
    {
      "cell_type": "code",
      "execution_count": null,
      "metadata": {
        "id": "fd8U-E-kSNLC"
      },
      "outputs": [],
      "source": [
        "x = np.arange(0, 101, 1)\n",
        "y = calc_nd(x, 100, 15, 5)"
      ]
    },
    {
      "cell_type": "code",
      "execution_count": null,
      "metadata": {
        "id": "keAhlandSZXA"
      },
      "outputs": [],
      "source": [
        "plt.plot(x, y)"
      ]
    },
    {
      "cell_type": "markdown",
      "metadata": {
        "id": "MbRp6zWQTR-y"
      },
      "source": [
        "2. 累積度数分布の計算"
      ]
    },
    {
      "cell_type": "code",
      "execution_count": null,
      "metadata": {
        "id": "fC_-DdrySwFA"
      },
      "outputs": [],
      "source": [
        "acu_y = y.cumsum()\n",
        "\n",
        "fig, ax1 = plt.subplots()\n",
        "ax2 = ax1.twinx()\n",
        "ax1.plot(x, y)\n",
        "ax2.plot(x, acu_y, color = \"red\")"
      ]
    },
    {
      "cell_type": "markdown",
      "metadata": {
        "id": "WELiP_ThTfr9"
      },
      "source": [
        "3. バンドワゴン効果の確認"
      ]
    },
    {
      "cell_type": "code",
      "execution_count": null,
      "metadata": {
        "id": "-JxRc8eqTH6-"
      },
      "outputs": [],
      "source": [
        "curr = 6\n",
        "for i in range(10):\n",
        "  print(i, curr)\n",
        "  curr = int(acu_y[curr])"
      ]
    },
    {
      "cell_type": "markdown",
      "metadata": {
        "id": "OCWjLF1cTrqq"
      },
      "source": [
        "4. クリティカルマスの確認"
      ]
    },
    {
      "cell_type": "code",
      "execution_count": null,
      "metadata": {
        "id": "DxjXBV9iToWM"
      },
      "outputs": [],
      "source": [
        "for xx in x:\n",
        "  if 0 < xx and xx < acu_y[xx]:\n",
        "    print(\"{} is critical-mass.\".format(xx))\n",
        "    break"
      ]
    }
  ],
  "metadata": {
    "colab": {
      "collapsed_sections": [],
      "include_colab_link": true,
      "name": "SocSysSci_01",
      "provenance": []
    },
    "kernelspec": {
      "display_name": "Python 3",
      "name": "python3"
    }
  },
  "nbformat": 4,
  "nbformat_minor": 0
}
