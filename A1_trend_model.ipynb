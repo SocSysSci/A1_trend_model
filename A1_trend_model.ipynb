{
  "nbformat": 4,
  "nbformat_minor": 0,
  "metadata": {
    "colab": {
      "name": "SocSysSci_01",
      "provenance": [],
      "collapsed_sections": [],
      "include_colab_link": true
    },
    "kernelspec": {
      "name": "python3",
      "display_name": "Python 3"
    }
  },
  "cells": [
    {
      "cell_type": "markdown",
      "metadata": {
        "id": "view-in-github",
        "colab_type": "text"
      },
      "source": [
        "<a href=\"https://colab.research.google.com/github/SocSysSci2022/A1_trend_model/blob/main/A1_trend_model.ipynb\" target=\"_parent\"><img src=\"https://colab.research.google.com/assets/colab-badge.svg\" alt=\"Open In Colab\"/></a>"
      ]
    },
    {
      "cell_type": "code",
      "metadata": {
        "id": "RM8yHkPCRyDd"
      },
      "source": [
        "import numpy as np\n",
        "import matplotlib.pyplot as plt"
      ],
      "execution_count": null,
      "outputs": []
    },
    {
      "cell_type": "code",
      "metadata": {
        "id": "MCcVEBJASATo"
      },
      "source": [
        "def calc_nd(x, pop, mu, sigma):\n",
        "  y = pop / (np.sqrt(2 * np.pi * sigma ** 2)) * np.exp((-(x - mu)**2) / (2 * sigma ** 2))\n",
        "  return y"
      ],
      "execution_count": null,
      "outputs": []
    },
    {
      "cell_type": "markdown",
      "metadata": {
        "id": "TcdPQGmtTK_S"
      },
      "source": [
        "1. 正規度数分布の計算"
      ]
    },
    {
      "cell_type": "code",
      "metadata": {
        "id": "fd8U-E-kSNLC"
      },
      "source": [
        "x = np.arange(0, 101, 1)\n",
        "y = calc_nd(x, 100, 15, 5)"
      ],
      "execution_count": null,
      "outputs": []
    },
    {
      "cell_type": "code",
      "metadata": {
        "id": "keAhlandSZXA"
      },
      "source": [
        "plt.plot(x, y)"
      ],
      "execution_count": null,
      "outputs": []
    },
    {
      "cell_type": "markdown",
      "metadata": {
        "id": "MbRp6zWQTR-y"
      },
      "source": [
        "2. 累積度数分布の計算"
      ]
    },
    {
      "cell_type": "code",
      "metadata": {
        "id": "fC_-DdrySwFA"
      },
      "source": [
        "acu_y = y.cumsum()\n",
        "\n",
        "fig, ax1 = plt.subplots()\n",
        "ax2 = ax1.twinx()\n",
        "ax1.plot(x, y)\n",
        "ax2.plot(x, acu_y, color = \"red\")"
      ],
      "execution_count": null,
      "outputs": []
    },
    {
      "cell_type": "markdown",
      "metadata": {
        "id": "WELiP_ThTfr9"
      },
      "source": [
        "3. バンドワゴン効果"
      ]
    },
    {
      "cell_type": "code",
      "metadata": {
        "id": "-JxRc8eqTH6-"
      },
      "source": [
        "curr = 6\n",
        "for i in range(10):\n",
        "  print(i, curr)\n",
        "  curr = int(acu_y[curr])"
      ],
      "execution_count": null,
      "outputs": []
    },
    {
      "cell_type": "markdown",
      "metadata": {
        "id": "OCWjLF1cTrqq"
      },
      "source": [
        "4. クリティカルマス"
      ]
    },
    {
      "cell_type": "code",
      "metadata": {
        "id": "DxjXBV9iToWM"
      },
      "source": [
        "for xx in x:\n",
        "  if 0 < xx and xx < acu_y[xx]:\n",
        "    print(\"{} is critical-mass.\".format(xx))\n",
        "    break"
      ],
      "execution_count": null,
      "outputs": []
    }
  ]
}